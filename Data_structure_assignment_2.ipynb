{
  "nbformat": 4,
  "nbformat_minor": 0,
  "metadata": {
    "colab": {
      "provenance": []
    },
    "kernelspec": {
      "name": "python3",
      "display_name": "Python 3"
    },
    "language_info": {
      "name": "python"
    }
  },
  "cells": [
    {
      "cell_type": "markdown",
      "source": [
        "Data structure ques and ans"
      ],
      "metadata": {
        "id": "4RWmyvAZ-un8"
      }
    },
    {
      "cell_type": "markdown",
      "source": [
        "1. What are data structures, and why are they important?\n",
        "   - Data structures are ways of organizing, storing, and managing data in a computer so that it can be accessed and modified efficiently.\n",
        "\n",
        "    They define the layout of data in memory and the operations you can perform on that data.\n",
        "\n",
        "    Why Are Data Structures Important?\n",
        "\n",
        "      1. Efficiency in work\n",
        "\n",
        "      2. Ease of Data Management\n",
        "\n",
        "      3. Reusability & Abstraction\n",
        "\n",
        "      4. Foundation of Algorithms\n",
        "      Many algorithms are built around specific data structures (e.g., Dijkstra’s algorithm with priority queues).\n",
        "\n",
        "      5. Real-world Application Support\n",
        "\n",
        "      6. Databases use B-trees and hash indexes.\n",
        "\n",
        "      7. Operating systems use queues, scheduling trees, and hash maps.\n",
        "\n",
        "      8. Social networks use graphs to model connections.\n",
        "\n",
        "2. Explain the difference between mutable and immutable data types with examples\n",
        "   - Mutable data types are those whose values can be changed after they are created. You can modify, add, or remove elements without creating a new object.\n",
        "\n",
        "      examples:\n",
        "\n",
        "      Mutable Data Types: list, dictionary, set\n",
        "\n",
        "        List:\n",
        "\n",
        "        my_list = [1, 2, 3]\n",
        "\n",
        "        my_list[0] = 10\n",
        "\n",
        "        print(my_list)  # Output: [10, 2, 3]\n",
        "\n",
        "        The list was changed without creating a new one.\n",
        "\n",
        "    - Immutable data types, on the other hand, cannot be changed after they are created. Any operation that tries to change the value results in the creation of a new object.\n",
        "\n",
        "        examples:\n",
        "\n",
        "        Immutable data types: strings, int, tuple\n",
        "\n",
        "        String:\n",
        "\n",
        "        s = \"hello\"\n",
        "\n",
        "        s = \"H\" + s[1:]\n",
        "\n",
        "        print(s)  # Output: \"Hello\"\n",
        "\n",
        "        You can't change a single character directly; a new string is created.\n",
        "\n",
        "3. What are the main differences between lists and tuples in Python?\n",
        "   - Mutability\n",
        "   \n",
        "   Lists are mutable, meaning their contents can be changed after creation (you can add, remove, or modify elements).\n",
        "\n",
        "   Tuples are immutable, meaning their contents cannot be changed once they are created.\n",
        "\n",
        "    - Syntax\n",
        "\n",
        "      A list is created using square brackets: [1, 2, 3]\n",
        "\n",
        "      A tuple is created using parentheses: (1, 2, 3)\n",
        "\n",
        "   - Performance\n",
        "\n",
        "      Tuples are generally faster than lists when it comes to iteration and performance-critical operations, due to their immutability.\n",
        "\n",
        "      Lists are slower because they support more operations and dynamic changes.\n",
        "\n",
        "    - Functionality\n",
        "\n",
        "      Lists have more built-in methods for adding, removing, or modifying elements.\n",
        "\n",
        "      Tuples have fewer methods because they are not meant to change.\n",
        "\n",
        "     - Use Cases\n",
        "\n",
        "        Use lists when you need a dynamic collection of items that might change over time.\n",
        "\n",
        "        Use tuples when the data should remain constant and not be altered (e.g., representing fixed data like coordinates or RGB color codes).\n",
        "\n",
        "     - Dictionary Keys\n",
        "\n",
        "       Tuples can be used as keys in dictionaries (if they only contain immutable elements).\n",
        "\n",
        "       Lists cannot be used as dictionary keys because they are mutable.\n",
        "\n",
        "4. Describe how dictionaries store data.\n",
        "   - A dictionary in Python stores data as key-value pairs using a highly efficient data structure called a hash table.\n",
        "\n",
        "     my_dict = {\"name\": \"Alice\", \"age\": 25}\n",
        "\n",
        "      \"name\" is a key\n",
        "\n",
        "      \"Alice\" is its corresponding value\n",
        "\n",
        "5. Why might you use a set instead of a list in Python?\n",
        "    - You might use a set instead of a list in Python when you need to store unique items and perform fast membership tests or set operations like union, intersection, and difference. Sets also automatically remove duplicates.\n",
        "\n",
        "6. What is a string in Python, and how is it different from a list?\n",
        "   - In Python, a string is a sequence of characters used to represent textual data. Strings are enclosed in single ('), double (\"), or triple quotes (''' or \"\"\"). For example, \"hello\" is a string containing five characters.\n",
        "\n",
        "      The main difference between a string and a list lies in their structure and behavior:\n",
        "\n",
        "      1. A string is immutable, meaning once it is created, its characters cannot be changed individually. Any modification creates a new string.\n",
        "\n",
        "      2. A list is mutable, so you can change, add, or remove elements after the list is created.\n",
        "\n",
        "     3.  Another key difference is in the type of elements they hold. A string always holds characters, while a list can hold elements of any data type, including numbers, strings, or even other lists.\n",
        "   \n",
        "7. How do tuples ensure data integrity in Python?\n",
        "   - In Python, tuples help ensure data integrity through their immutability. Once a tuple is created, its contents cannot be changed—you cannot add, remove, or modify elements. This immutability makes tuples reliable for storing constant data that should remain fixed throughout the program.\n",
        "\n",
        "      By preventing accidental changes, tuples protect data from being modified unintentionally, especially in large or complex programs. This makes them ideal for use in situations where data must remain unchanged, such as fixed configuration values, coordinates, or as keys in dictionaries.\n",
        "\n",
        "      In short, tuples help maintain the original state of data, ensuring it stays consistent and tamper-proof during execution.\n",
        "\n",
        "8. What is a hash table, and how does it relate to dictionaries in Python?\n",
        "    - A hash table is a data structure that stores data in key-value pairs and allows for very fast access to values based on their keys. It works by using a hash function to convert a key into a specific index (a hash) in an underlying array, where the corresponding value is stored.\n",
        "\n",
        "      In Python, the dictionary (dict) is implemented using a hash table behind the scenes. When you store a key-value pair in a dictionary, Python uses a hash function to determine where to place the value in memory. When you later access the value using the same key, Python uses the hash function again to find it quickly.\n",
        "\n",
        "      Because of this, dictionaries in Python provide average-case constant time complexity (O(1)) for operations like lookup, insertion, and deletion. The hash table ensures that each key is unique and allows for efficient data retrieval.\n",
        "\n",
        "9. Can lists contain different data types in Python?\n",
        "   - Yes, lists in Python can contain different data types. Unlike some programming languages that enforce type restrictions within a list, Python allows lists to hold a mix of data types in the same list.\n",
        "\n",
        "      For example, a single list can contain integers, strings, floats, booleans, and even other lists or custom objects:\n",
        "\n",
        "      my_list = [42, \"hello\", 3.14, True, [1, 2, 3]]\n",
        "\n",
        "      This flexibility is possible because Python is a dynamically typed language, meaning that variable and container types are checked at runtime rather than at compile time.\n",
        "\n",
        "      Allowing multiple data types in a list makes Python lists very versatile, especially for tasks like data collection, dynamic programming, or prototyping. However, when working with mixed data types, developers need to handle type conversions or checks carefully to avoid runtime errors.\n",
        "\n",
        "10. Explain why strings are immutable in Python?\n",
        "    - In Python, strings are immutable, meaning once a string is created, its contents cannot be changed. This design choice is intentional and offers several important benefits:\n",
        "\n",
        "    1. Data Integrity and Safety\n",
        "      Immutability ensures that strings remain consistent throughout the program. Once created, a string cannot be accidentally modified, which helps prevent bugs and unintended side effects.\n",
        "\n",
        "    2. Hashability\n",
        "      Because strings are immutable, they can be used as keys in dictionaries and elements in sets, both of which rely on the data being hashable. Mutable types can't be hashed reliably, but immutable types like strings can.\n",
        "\n",
        "    3. Performance Optimization\n",
        "      Python can optimize memory usage and performance by reusing identical string objects (a technique called string interning), which is only safe when strings can't be changed.\n",
        "\n",
        "     4. Thread Safety\n",
        "      In multi-threaded environments, immutable objects like strings are inherently safer because they cannot be altered by multiple threads at the same time.\n",
        "\n",
        "11. What advantages do dictionaries offer over lists for certain tasks?\n",
        "    - Advantages of Dictionaries Over Lists for Certain Tasks\n",
        "\n",
        "    1. Fast Lookup by Key\n",
        "        Dictionaries store data as key-value pairs and use a hash table for storage, which allows for average constant-time (O(1)) lookup. In contrast, searching for an item in a list requires scanning elements, which takes linear time (O(n)).\n",
        "\n",
        "      2. Direct Access Without Index\n",
        "        Unlike lists, where you access elements by numeric index, dictionaries allow you to access data via meaningful keys (like names or IDs), making code more readable and intuitive.\n",
        "\n",
        "      3.  Clearer Data Relationships\n",
        "        Dictionaries naturally represent associations between keys and values, which is ideal for tasks like storing user profiles, configuration settings, or mapping items to properties.\n",
        "\n",
        "      4.  No Need for Ordered Position\n",
        "        When order doesn’t matter, dictionaries are better because they avoid reliance on position and focus on key-based retrieval.\n",
        "\n",
        "       5. Flexible Keys\n",
        "        Keys in dictionaries can be almost any immutable type, enabling versatile data structures that lists can’t easily replicate.\n",
        "      \n",
        "12. Describe a scenario where using a tuple would be preferable over a list.\n",
        "    - A tuple is preferable over a list when you want to store a fixed collection of values that should not change throughout the program.\n",
        "\n",
        "    Example Scenario:\n",
        "\n",
        "    You're returning coordinates from a function:\n",
        "\n",
        "    def get_location():\n",
        "\n",
        "    return (40.7128, -74.0060)  # Latitude, Longitude\n",
        "\n",
        "    In this case, using a tuple makes sense because:\n",
        "\n",
        "    1. The data represents a fixed structure (latitude and longitude).\n",
        "\n",
        "    2. The values should remain unchanged.\n",
        "\n",
        "    3. Tuples are more efficient and can be used as keys in dictionaries if needed.\n",
        "\n",
        "13. How do sets handle duplicate values in Python?\n",
        "    - In Python, sets automatically eliminate duplicate values. When you add items to a set, Python checks for duplicates and only keeps unique elements.\n",
        "\n",
        "    my_set = {1, 2, 2, 3, 3, 3}\n",
        "\n",
        "    print(my_set)  # Output: {1, 2, 3}\n",
        "\n",
        "14. How does the “in” keyword work differently for lists and dictionaries?\n",
        "    - **In a List:** in checks whether a value exists in the list.\n",
        "\n",
        "      It performs a linear search (O(n) time complexity).\n",
        "\n",
        "      my_list = [10, 20, 30]\n",
        "\n",
        "      print(20 in my_list)  # True → checks if 20 is in the list\n",
        "\n",
        "    - **In a Dictionary: **in checks whether a key exists in the dictionary, not a value.\n",
        "\n",
        "      It uses a hash table for fast lookup (O(1) average time).\n",
        "\n",
        "      my_dict = {'a': 1, 'b': 2}\n",
        "\n",
        "      print('a' in my_dict)      # True → checks if 'a' is a key\n",
        "\n",
        "      print(1 in my_dict)        # False → values are not checked\n",
        "\n",
        "15. Can you modify the elements of a tuple? Explain why or why not.\n",
        "    - No, you cannot modify the elements of a tuple in Python because tuples are immutable.\n",
        "\n",
        "      **Why not?**\n",
        "\n",
        "      Once a tuple is created, its contents cannot be changed — you cannot:\n",
        "\n",
        "    1. Add new elements\n",
        "\n",
        "    2. Remove elements\n",
        "\n",
        "    3. Change existing elements\n",
        "\n",
        "         Example\n",
        "\n",
        "         t = (1, 2, 3)\n",
        "\n",
        "          t[0] = 10   # Raises TypeError\n",
        "\n",
        "16. What is a nested dictionary, and give an example of its use case?\n",
        "   - A nested dictionary is a dictionary where the value of one or more keys is another dictionary. It allows you to store complex, hierarchical data structures in a clear and organized way.\n",
        "\n",
        "     example:\n",
        "\n",
        "    employees = {\n",
        "    \"emp1\": {\"name\": \"Alice\", \"age\": 30, \"department\": \"HR\"},\n",
        "    \"emp2\": {\"name\": \"Bob\", \"age\": 25, \"department\": \"IT\"}\n",
        "    }\n",
        "    \n",
        "  Here, each employee is identified by a key (\"emp1\", \"emp2\") and their details are stored in inner dictionaries.\n",
        "\n",
        "17. Describe the time complexity of accessing elements in a dictionary.\n",
        "    - In Python, accessing elements in a dictionary using a key has an average-case time complexity of O(1) — meaning it takes constant time, regardless of the size of the dictionary.\n",
        "\n",
        "       Why O(1)?\n",
        "\n",
        "      Dictionaries are implemented using hash tables. When you access a value:\n",
        "\n",
        "      1. The key is hashed using a hash function.\n",
        "\n",
        "      2. That hash determines the index where the value is stored.\n",
        "\n",
        "      3. The value is retrieved directly without searching through other elements.\n",
        "\n",
        "18. In what situations are lists preferred over dictionaries?\n",
        "    - Lists are preferred over dictionaries in situations where the data is ordered, and position or sequence matters. They are ideal when you simply need to store a collection of values without needing to associate them with unique keys.\n",
        "    \n",
        "    - For example, lists are commonly used for tasks like managing to-do items, storing numbers, or iterating through elements in a specific order. Since lists allow access by index, they are useful when you want to retrieve or modify elements based on their position. Additionally, when the data set does not require fast key-based lookups or doesn't have meaningful identifiers for each item, lists offer a simpler and more readable structure than dictionaries.\n",
        "\n",
        "19. Why are dictionaries considered unordered, and how does that affect data retrieval?\n",
        "    - Dictionaries in Python were considered unordered because they do not maintain the order in which items were added. Instead, dictionaries store key-value pairs based on hash values for efficient lookup, so the internal arrangement depends on the hash function rather than insertion order.\n",
        "\n",
        "    - Effect on Data Retrieval:\n",
        "\n",
        "     1. Since dictionaries are unordered, you cannot rely on the order of items when iterating over them.\n",
        "\n",
        "     2. Accessing a value by its key is still fast and direct, but the sequence of keys or values is unpredictable.\n",
        "\n",
        "     3. This means you should avoid relying on any specific order when retrieving items from a dictionary.\n",
        "\n",
        "20. Explain the difference between a list and a dictionary in terms of data retrieval.\n",
        "    - In Python, lists and dictionaries differ fundamentally in how data is accessed. A list retrieves elements based on their position or index. To get an item, you use its numerical index, which allows direct access. However, if you want to find an element by its value, the list requires searching through its items sequentially, which can become slower as the list grows.\n",
        "\n",
        "    - On the other hand, a dictionary retrieves data using keys rather than numeric positions. Each key is unique and directly maps to a corresponding value. Internally, dictionaries use a hash table, enabling them to access values quickly and efficiently—usually in constant time—without needing to search through all items. Unlike lists, dictionaries don’t rely on the order of elements but on unique keys for fast lookups.\n",
        "\n",
        "    "
      ],
      "metadata": {
        "id": "vV1vEvbF-1YZ"
      }
    },
    {
      "cell_type": "markdown",
      "source": [
        "**Data Structure practical ques/ans**"
      ],
      "metadata": {
        "id": "ekCIcPU5GbIa"
      }
    },
    {
      "cell_type": "code",
      "source": [
        "# 1. Write a code to create a string with your name and print it\n",
        "name= \"Shubhi\"\n",
        "print(name)"
      ],
      "metadata": {
        "colab": {
          "base_uri": "https://localhost:8080/"
        },
        "id": "OmBQ1Tv_GZJq",
        "outputId": "30bc344b-cb22-42de-c538-53ad6ce72ba4"
      },
      "execution_count": null,
      "outputs": [
        {
          "output_type": "stream",
          "name": "stdout",
          "text": [
            "Shubhi\n"
          ]
        }
      ]
    },
    {
      "cell_type": "code",
      "execution_count": null,
      "metadata": {
        "id": "jElysDOg-q47",
        "colab": {
          "base_uri": "https://localhost:8080/"
        },
        "outputId": "ff7d64b6-5a6f-4c2a-b41a-63d13978978a"
      },
      "outputs": [
        {
          "output_type": "stream",
          "name": "stdout",
          "text": [
            "11\n"
          ]
        }
      ],
      "source": [
        "# 2. Write a code to find the length of the string \"Hello World\"\n",
        "string= \"hello world\"\n",
        "print(len(string))"
      ]
    },
    {
      "cell_type": "code",
      "source": [
        "# 3. Write a code to slice the first 3 characters from the string \"Python Programming\"\n",
        "string= \"Python Programming\"\n",
        "print(string[0:3])"
      ],
      "metadata": {
        "colab": {
          "base_uri": "https://localhost:8080/"
        },
        "id": "v7zBvX6MHSZr",
        "outputId": "aa71e010-c1e5-4706-f319-2362c8249fbf"
      },
      "execution_count": null,
      "outputs": [
        {
          "output_type": "stream",
          "name": "stdout",
          "text": [
            "Pyt\n"
          ]
        }
      ]
    },
    {
      "cell_type": "code",
      "source": [
        "# 4. Write a code to convert the string \"hello\" to uppercase\n",
        "string= \"hello\"\n",
        "print(string.upper())"
      ],
      "metadata": {
        "colab": {
          "base_uri": "https://localhost:8080/"
        },
        "id": "Gp2_ClznHykR",
        "outputId": "45441302-6655-43bc-b4af-c79a7d426e5f"
      },
      "execution_count": null,
      "outputs": [
        {
          "output_type": "stream",
          "name": "stdout",
          "text": [
            "HELLO\n"
          ]
        }
      ]
    },
    {
      "cell_type": "code",
      "source": [
        "# 5. Write a code to replace the word \"apple\" with \"orange\" in the string \"I like apple\"\n",
        "string= \"i like apple\"\n",
        "print(string.replace(\"apple\",\"orange\"))"
      ],
      "metadata": {
        "colab": {
          "base_uri": "https://localhost:8080/"
        },
        "id": "YwCRBLQSIQtY",
        "outputId": "a0a18b33-2ccb-4e88-9270-39934f4280f7"
      },
      "execution_count": null,
      "outputs": [
        {
          "output_type": "stream",
          "name": "stdout",
          "text": [
            "i like orange\n"
          ]
        }
      ]
    },
    {
      "cell_type": "code",
      "source": [
        "# 6. Write a code to create a list with numbers 1 to 5 and print it\n",
        "list=[1,2,3,4,5]\n",
        "print(list)"
      ],
      "metadata": {
        "colab": {
          "base_uri": "https://localhost:8080/"
        },
        "id": "2RKx9lDTIzi9",
        "outputId": "d5db2550-384a-4ca4-d52f-6086c6ff71e2"
      },
      "execution_count": null,
      "outputs": [
        {
          "output_type": "stream",
          "name": "stdout",
          "text": [
            "[1, 2, 3, 4, 5]\n"
          ]
        }
      ]
    },
    {
      "cell_type": "code",
      "source": [
        "# 7. Write a code to append the number 10 to the list [1, 2, 3, 4]\n",
        "list=[1,2,3,4]\n",
        "list.append(10)\n",
        "print(list)"
      ],
      "metadata": {
        "colab": {
          "base_uri": "https://localhost:8080/"
        },
        "id": "p7_SH-SoI-oJ",
        "outputId": "98d8ba3d-f868-4928-fbbc-7987f4721cd5"
      },
      "execution_count": null,
      "outputs": [
        {
          "output_type": "stream",
          "name": "stdout",
          "text": [
            "[1, 2, 3, 4, 10]\n"
          ]
        }
      ]
    },
    {
      "cell_type": "code",
      "source": [
        "# 8. Write a code to remove the number 3 from the list [1, 2, 3, 4, 5]\n",
        "list=[1,2,3,4,5]\n",
        "list.remove(3)\n",
        "print(list)"
      ],
      "metadata": {
        "colab": {
          "base_uri": "https://localhost:8080/"
        },
        "id": "kSZ117a1JIe9",
        "outputId": "1c9a6736-45c2-4bf2-ebe3-01bfcc1ac4a2"
      },
      "execution_count": null,
      "outputs": [
        {
          "output_type": "stream",
          "name": "stdout",
          "text": [
            "[1, 2, 4, 5]\n"
          ]
        }
      ]
    },
    {
      "cell_type": "code",
      "source": [
        "# 9. Write a code to access the second element in the list ['a', 'b', 'c', 'd']\n",
        "list=['a','b','c','d']\n",
        "print(list[1])"
      ],
      "metadata": {
        "colab": {
          "base_uri": "https://localhost:8080/"
        },
        "id": "aFK7tBHqJXAW",
        "outputId": "2da0de11-2a46-4e2b-8673-24c8a43ebe94"
      },
      "execution_count": null,
      "outputs": [
        {
          "output_type": "stream",
          "name": "stdout",
          "text": [
            "b\n"
          ]
        }
      ]
    },
    {
      "cell_type": "code",
      "source": [
        "# 10. Write a code to reverse the list [10, 20, 30, 40, 50]\n",
        "list=[10,20,30,40,50]\n",
        "print(list[::-1])"
      ],
      "metadata": {
        "colab": {
          "base_uri": "https://localhost:8080/"
        },
        "id": "lAcQ1_ZVJgq4",
        "outputId": "d45fc756-c1cc-49af-d802-4bc3c3af44f2"
      },
      "execution_count": null,
      "outputs": [
        {
          "output_type": "stream",
          "name": "stdout",
          "text": [
            "[50, 40, 30, 20, 10]\n"
          ]
        }
      ]
    },
    {
      "cell_type": "code",
      "source": [
        "# 11. Write a code to create a tuple with the elements 100, 200, 300 and print it\n",
        "tuple=(100,200,300)\n",
        "print(tuple)"
      ],
      "metadata": {
        "colab": {
          "base_uri": "https://localhost:8080/"
        },
        "id": "nQ5bma0fJnpX",
        "outputId": "5f28d888-6812-4ca8-c9c6-38b4409137aa"
      },
      "execution_count": null,
      "outputs": [
        {
          "output_type": "stream",
          "name": "stdout",
          "text": [
            "(100, 200, 300)\n"
          ]
        }
      ]
    },
    {
      "cell_type": "code",
      "source": [
        "# 12. Write a code to access the second-to-last element of the tuple ('red', 'green', 'blue', 'yellow')\n",
        "tuple=('red','green','blue','yellow')\n",
        "print(tuple[-2])"
      ],
      "metadata": {
        "colab": {
          "base_uri": "https://localhost:8080/"
        },
        "id": "7z_JE6f0JwXu",
        "outputId": "6612bf96-f886-49ed-e047-1e5fbcc87673"
      },
      "execution_count": null,
      "outputs": [
        {
          "output_type": "stream",
          "name": "stdout",
          "text": [
            "blue\n"
          ]
        }
      ]
    },
    {
      "cell_type": "code",
      "source": [
        "# 13. Write a code to find the minimum number in the tuple (10, 20, 5, 15)\n",
        "tuple= (10,20,5,15)\n",
        "print(min(tuple))"
      ],
      "metadata": {
        "colab": {
          "base_uri": "https://localhost:8080/"
        },
        "id": "-UB-N-abKe_C",
        "outputId": "765bfd43-e107-4146-bc6f-ef3641932b5d"
      },
      "execution_count": null,
      "outputs": [
        {
          "output_type": "stream",
          "name": "stdout",
          "text": [
            "5\n"
          ]
        }
      ]
    },
    {
      "cell_type": "code",
      "source": [
        "# 14.  Write a code to find the index of the element \"cat\" in the tuple ('dog', 'cat', 'rabbit')\n",
        "tuple= ('dog','cat','rabbit')\n",
        "print(tuple.index('cat'))"
      ],
      "metadata": {
        "colab": {
          "base_uri": "https://localhost:8080/"
        },
        "id": "7sZ8KmMGKtAJ",
        "outputId": "3cb6aa9f-fe71-4b27-c9ea-ae231c7d6467"
      },
      "execution_count": null,
      "outputs": [
        {
          "output_type": "stream",
          "name": "stdout",
          "text": [
            "1\n"
          ]
        }
      ]
    },
    {
      "cell_type": "code",
      "source": [
        "# 15. Write a code to create a tuple containing three different fruits and check if \"kiwi\" is in it\n",
        "fruits= ('apple','banana','kiwi')\n",
        "if \"kiwi\" in fruits:\n",
        "    print(\"kiwi is in the tuple\")\n",
        "else:\n",
        "  print(\"kiwi is not in tuple\")"
      ],
      "metadata": {
        "colab": {
          "base_uri": "https://localhost:8080/"
        },
        "id": "ZjQh-tksMFTv",
        "outputId": "99cec382-51f6-4c8f-d2fc-bc6be8329084"
      },
      "execution_count": null,
      "outputs": [
        {
          "output_type": "stream",
          "name": "stdout",
          "text": [
            "kiwi is in the tuple\n"
          ]
        }
      ]
    },
    {
      "cell_type": "code",
      "source": [
        "# 16.  Write a code to create a set with the elements 'a', 'b', 'c' and print it\n",
        "set_a = {'a', 'b', 'c'}\n",
        "print(set_a)"
      ],
      "metadata": {
        "colab": {
          "base_uri": "https://localhost:8080/"
        },
        "id": "8WT0QFvMMyX6",
        "outputId": "6c0aa2aa-77ef-4ce7-9dd1-834a28817132"
      },
      "execution_count": null,
      "outputs": [
        {
          "output_type": "stream",
          "name": "stdout",
          "text": [
            "{'b', 'a', 'c'}\n"
          ]
        }
      ]
    },
    {
      "cell_type": "code",
      "source": [
        "# 17. Write a code to clear all elements from the set {1, 2, 3, 4, 5}\n",
        "set_b = {1, 2, 3, 4, 5}\n",
        "set_b.clear()\n",
        "print(set_b)"
      ],
      "metadata": {
        "colab": {
          "base_uri": "https://localhost:8080/"
        },
        "id": "wBB3jIhXNK7X",
        "outputId": "09f85b7c-7819-4ffe-96f7-600c18b0a81e"
      },
      "execution_count": null,
      "outputs": [
        {
          "output_type": "stream",
          "name": "stdout",
          "text": [
            "set()\n"
          ]
        }
      ]
    },
    {
      "cell_type": "code",
      "source": [
        "# 18.  Write a code to remove the element 4 from the set {1, 2, 3, 4}\n",
        "set_c = {1, 2, 3, 4, 5}\n",
        "set_c.remove(4)\n",
        "print(set_c)"
      ],
      "metadata": {
        "colab": {
          "base_uri": "https://localhost:8080/"
        },
        "id": "fFsKj5aiNTbA",
        "outputId": "64a26834-d27f-472a-ac36-07cfb24524ab"
      },
      "execution_count": null,
      "outputs": [
        {
          "output_type": "stream",
          "name": "stdout",
          "text": [
            "{1, 2, 3, 5}\n"
          ]
        }
      ]
    },
    {
      "cell_type": "code",
      "source": [
        "# 19.  Write a code to find the union of two sets {1, 2, 3} and {3, 4, 5}\n",
        "my_set1= {1,2,3}\n",
        "my_set2= {3,4,5}\n",
        "print(my_set1.union(my_set2))"
      ],
      "metadata": {
        "colab": {
          "base_uri": "https://localhost:8080/"
        },
        "id": "M0UO3ooINd4H",
        "outputId": "cbc1f4c9-eba4-4449-e541-94be33272112"
      },
      "execution_count": null,
      "outputs": [
        {
          "output_type": "stream",
          "name": "stdout",
          "text": [
            "{1, 2, 3, 4, 5}\n"
          ]
        }
      ]
    },
    {
      "cell_type": "code",
      "source": [
        "# 20. Write a code to find the intersection of two sets {1, 2, 3} and {2, 3, 4}\n",
        "my_set1= {1,2,3}\n",
        "my_set2= {2,3,4}\n",
        "print(my_set1.intersection(my_set2))"
      ],
      "metadata": {
        "colab": {
          "base_uri": "https://localhost:8080/"
        },
        "id": "NftOPkqANwzu",
        "outputId": "a3f8fe66-e8ee-4c34-cbf5-8ec127f43b4e"
      },
      "execution_count": null,
      "outputs": [
        {
          "output_type": "stream",
          "name": "stdout",
          "text": [
            "{2, 3}\n"
          ]
        }
      ]
    },
    {
      "cell_type": "code",
      "source": [
        "# 21. Write a code to create a dictionary with the keys \"name\", \"age\", and \"city\", and print it\n",
        "dict= {\"name\":\"shubhi\",\"age\":20,\"city\":\"uttrakhand\"}\n",
        "print(dict)"
      ],
      "metadata": {
        "colab": {
          "base_uri": "https://localhost:8080/"
        },
        "id": "9jmvLWZCN5vb",
        "outputId": "58ec10e9-7703-4728-e17f-68a09d4e3c43"
      },
      "execution_count": null,
      "outputs": [
        {
          "output_type": "stream",
          "name": "stdout",
          "text": [
            "{'name': 'shubhi', 'age': 20, 'city': 'uttrakhand'}\n"
          ]
        }
      ]
    },
    {
      "cell_type": "code",
      "source": [
        "# 22. Write a code to add a new key-value pair \"country\": \"USA\" to the dictionary {'name': 'John', 'age': 25}\n",
        "dict= {\"name\":\"john\", \"age\":\"25\"}\n",
        "dict[\"country\"]= \"USA\"\n",
        "print(dict)"
      ],
      "metadata": {
        "colab": {
          "base_uri": "https://localhost:8080/"
        },
        "id": "ygwao0ktOIVK",
        "outputId": "5cfc39ee-2d0c-4359-b8fa-2890282443c9"
      },
      "execution_count": null,
      "outputs": [
        {
          "output_type": "stream",
          "name": "stdout",
          "text": [
            "{'name': 'john', 'age': '25', 'country': 'USA'}\n"
          ]
        }
      ]
    },
    {
      "cell_type": "code",
      "source": [
        "# 23.  Write a code to access the value associated with the key \"name\" in the dictionary {'name': 'Alice', 'age': 30}\n",
        "dict= {\"name\":\"Alice\", \"age\":\"30\"}\n",
        "value= dict[\"name\"]\n",
        "print(value)"
      ],
      "metadata": {
        "colab": {
          "base_uri": "https://localhost:8080/"
        },
        "id": "yiOelg1POzWp",
        "outputId": "bda9633f-f48d-454d-9ac6-fbf457351937"
      },
      "execution_count": null,
      "outputs": [
        {
          "output_type": "stream",
          "name": "stdout",
          "text": [
            "Alice\n"
          ]
        }
      ]
    },
    {
      "cell_type": "code",
      "source": [
        "# 24. Write a code to remove the key \"age\" from the dictionary {'name': 'Bob', 'age': 22, 'city': 'New York'}\n",
        "dict= {'name': 'Bob', 'age': 22, 'city': 'New York'}\n",
        "del dict[\"age\"]\n",
        "print(dict)"
      ],
      "metadata": {
        "colab": {
          "base_uri": "https://localhost:8080/"
        },
        "id": "aV8HoH1nPmN5",
        "outputId": "2b40e60b-c01f-47c7-8376-e093205b6089"
      },
      "execution_count": null,
      "outputs": [
        {
          "output_type": "stream",
          "name": "stdout",
          "text": [
            "{'name': 'Bob', 'city': 'New York'}\n"
          ]
        }
      ]
    },
    {
      "cell_type": "code",
      "source": [
        "# 25. Write a code to check if the key \"city\" exists in the dictionary {'name': 'Alice', 'city': 'Paris'}\n",
        "dict= {'name': 'Alice', 'city': 'Paris'}\n",
        "if \"city\" in dict:\n",
        "    print(\"city is in the dictionary\")\n",
        "else:\n",
        "    print(\"city is not in the dictionary\")"
      ],
      "metadata": {
        "colab": {
          "base_uri": "https://localhost:8080/"
        },
        "id": "6gxcod75PxkH",
        "outputId": "c589b9bb-37b3-4b03-a579-ec9d83ee94f8"
      },
      "execution_count": null,
      "outputs": [
        {
          "output_type": "stream",
          "name": "stdout",
          "text": [
            "city is in the dictionary\n"
          ]
        }
      ]
    },
    {
      "cell_type": "code",
      "source": [
        "# 26.  Write a code to create a list, a tuple, and a dictionary, and print them all\n",
        "list= [1,2,3]\n",
        "tuple= (1,2,3)\n",
        "dict= {\"name\":\"shubhi\",\"age\":20,\"city\":\"uttrakhand\"}\n",
        "print(list)\n",
        "print(tuple)\n",
        "print(dict)"
      ],
      "metadata": {
        "colab": {
          "base_uri": "https://localhost:8080/"
        },
        "id": "oBMxNNxFQBUr",
        "outputId": "892a7fcb-2562-4aa9-d4f5-62f5e41165b0"
      },
      "execution_count": null,
      "outputs": [
        {
          "output_type": "stream",
          "name": "stdout",
          "text": [
            "[1, 2, 3]\n",
            "(1, 2, 3)\n",
            "{'name': 'shubhi', 'age': 20, 'city': 'uttrakhand'}\n"
          ]
        }
      ]
    },
    {
      "cell_type": "code",
      "source": [
        "# 27. Write a code to create a list of 5 random numbers between 1 and 100, sort\n",
        "# it in ascending order, and print the result.(replaced)\n",
        "import random\n",
        "random_list= [random.randint(1,100) for _ in range(5)]\n",
        "random_list.sort()\n",
        "print(random_list)\n"
      ],
      "metadata": {
        "colab": {
          "base_uri": "https://localhost:8080/"
        },
        "id": "agODGxqeQOj0",
        "outputId": "9e0976d8-1001-4ffb-8df2-35882a630c7f"
      },
      "execution_count": null,
      "outputs": [
        {
          "output_type": "stream",
          "name": "stdout",
          "text": [
            "[48, 74, 79, 96, 98]\n"
          ]
        }
      ]
    },
    {
      "cell_type": "code",
      "source": [
        "# 28. Write a code to create a list with strings and print the element at the third index\n",
        "list= [\"apple\",\"banana\",\"cherry\",\"kiwi\",\"orange\"]\n",
        "print(list[3])"
      ],
      "metadata": {
        "colab": {
          "base_uri": "https://localhost:8080/"
        },
        "id": "oK-eje2XRPzF",
        "outputId": "fcd133d7-e03e-49d0-9661-03c8faba5de4"
      },
      "execution_count": null,
      "outputs": [
        {
          "output_type": "stream",
          "name": "stdout",
          "text": [
            "kiwi\n"
          ]
        }
      ]
    },
    {
      "cell_type": "code",
      "source": [
        "# 29. Write a code to combine two dictionaries into one and print the result\n",
        "dict1= {\"a\":\"1\",\"b\":\"2\",\"c\":\"3\"}\n",
        "dict2= {'d': '4', 'e': '5'}\n",
        "combined_dict= {**dict1,**dict2}\n",
        "print(combined_dict)"
      ],
      "metadata": {
        "colab": {
          "base_uri": "https://localhost:8080/"
        },
        "id": "iC7Ceym5Rzt1",
        "outputId": "ac36d4d9-83bd-4b06-94a9-64989d414087"
      },
      "execution_count": null,
      "outputs": [
        {
          "output_type": "stream",
          "name": "stdout",
          "text": [
            "{'a': '1', 'b': '2', 'c': '3', 'd': '4', 'e': '5'}\n"
          ]
        }
      ]
    },
    {
      "cell_type": "code",
      "source": [
        "# 30.  Write a code to convert a list of strings into a set\n",
        "import builtins\n",
        "\n",
        "# List of strings\n",
        "string_list = [\"apple\", \"banana\", \"apple\", \"cherry\"]\n",
        "\n",
        "# Convert list to a set using the built-in set function\n",
        "unique_elements = builtins.set(string_list)\n",
        "\n",
        "# Print the unique elements\n",
        "print(unique_elements)"
      ],
      "metadata": {
        "colab": {
          "base_uri": "https://localhost:8080/"
        },
        "id": "q-NW5wzCVj_o",
        "outputId": "138a2bb7-f2d7-4877-dfdd-acbe4aac1556"
      },
      "execution_count": null,
      "outputs": [
        {
          "output_type": "stream",
          "name": "stdout",
          "text": [
            "{'apple', 'cherry', 'banana'}\n"
          ]
        }
      ]
    }
  ]
}